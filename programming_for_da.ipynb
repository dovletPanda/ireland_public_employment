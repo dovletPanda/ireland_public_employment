{
 "cells": [
  {
   "cell_type": "markdown",
   "id": "a1b434e0",
   "metadata": {},
   "source": [
    "Programming for DA Tasks Requirements:\n",
    "\n",
    "1.\tProgramming: The project must be explored programmatically: this means that you must implement suitable Python tools (code and/or libraries) to complete the analysis required. All of this is to be implemented in a Jupyter Notebook. [0-20]\n",
    "2.\tData structures: You are required to gather and process data that has been stored in at least two distinct formats. For example, this can be data in a CSV file, from a MySQL database or from a web API in JSON format. [0-20]\n",
    "3.\tDocumentation: The project documentation must include sound justifications and explanation of your code choices. Code quality standards should also be applied. [0-20]\n",
    "4.\tTesting & Optimisation: You are required to document and evaluate a testing and optimisation strategy for your analysis. As part of this, you may want to plan and document how you ensured your code is doing what it is meant to, as well as ensuring that the code is making good use of your resources (eg computing, time etc). Note any trade-offs that you've made in these areas. [0-20]\n",
    "5.\tData manipulation: For each of the different data sources, compare and contrast at least two relevant libraries and techniques for a) processing and b) aggregating the respective data, in order to justify your chosen libraries/techniques. [0-20]\n"
   ]
  },
  {
   "cell_type": "markdown",
   "id": "28414c37",
   "metadata": {},
   "source": [
    "In this part, which is the first stage of the project, I want to make datasets useful. In order to achieve this, my aim is to examine two different datasets separately and apply the following steps one by one.\n",
    "- Load raw data\n",
    "- Check null values\n",
    "- Update columns so as they have a useful format\n",
    "- Eliminate columns so as to have only required ones\n",
    "- Splitting dataset according to statistic types\n",
    "- Reediting columns according to their specific types\n",
    "- Aggregating splitted parts /or/ some columns \n",
    "- Export the structured dataset\n",
    "\n",
    "I will take these steps with two different approaches and compare these approaches to decide which one is more efficient.\n",
    "\n",
    "Also, the third and fourth items in the requirements, namely ensuring the code quality and standards, testing and optimization of the code will be implemented at every step throughout the whole project."
   ]
  },
  {
   "cell_type": "code",
   "execution_count": 1,
   "id": "594237ca",
   "metadata": {},
   "outputs": [],
   "source": [
    "# IMPORTING LIBRARIES\n",
    "import pandas as pd # first library \n",
    "import numpy as np # second library"
   ]
  },
  {
   "cell_type": "markdown",
   "id": "e6b64e99",
   "metadata": {},
   "source": [
    "Data Engineering with Pandas"
   ]
  },
  {
   "cell_type": "code",
   "execution_count": 2,
   "id": "8e3274c9",
   "metadata": {},
   "outputs": [],
   "source": [
    "# LOAD RAW DATA 1: Ireland Public Employment Data (RAW) (CSV)\n",
    "raw_1_pd = pd.read_csv('raw_data/ireland_public_raw.csv')"
   ]
  },
  {
   "cell_type": "code",
   "execution_count": 3,
   "id": "3e5af3ae",
   "metadata": {},
   "outputs": [
    {
     "data": {
      "text/plain": [
       "STATISTIC          0\n",
       "Statistic Label    0\n",
       "TLIST(Q1)          0\n",
       "Quarter            0\n",
       "C02741V03309       0\n",
       "Sub Sector         0\n",
       "UNIT               0\n",
       "VALUE              0\n",
       "dtype: int64"
      ]
     },
     "execution_count": 3,
     "metadata": {},
     "output_type": "execute_result"
    }
   ],
   "source": [
    "# Check null values\n",
    "raw_1_pd.isnull().sum()"
   ]
  },
  {
   "cell_type": "markdown",
   "id": "e0364ded",
   "metadata": {},
   "source": [
    "There is not any null values in the dataset"
   ]
  },
  {
   "cell_type": "code",
   "execution_count": 4,
   "id": "01dea35c",
   "metadata": {},
   "outputs": [],
   "source": [
    "# Update columns so as they have a useful format\n",
    "## Quarter column should be in a datetime format\n",
    "raw_1_pd.Quarter = pd.to_datetime(raw_1_pd.Quarter)\n",
    "raw_1_pd['Quarter'] = raw_1_pd['Quarter'].dt.to_period('Q')\n",
    "## Sub Sector column is categorized and labeled in another column, but I will use directly named columns and its title should be one-worded\n",
    "raw_1_pd['sector'] = raw_1_pd['Sub Sector']"
   ]
  },
  {
   "cell_type": "code",
   "execution_count": 5,
   "id": "7992dad4",
   "metadata": {},
   "outputs": [
    {
     "data": {
      "text/html": [
       "<div>\n",
       "<style scoped>\n",
       "    .dataframe tbody tr th:only-of-type {\n",
       "        vertical-align: middle;\n",
       "    }\n",
       "\n",
       "    .dataframe tbody tr th {\n",
       "        vertical-align: top;\n",
       "    }\n",
       "\n",
       "    .dataframe thead th {\n",
       "        text-align: right;\n",
       "    }\n",
       "</style>\n",
       "<table border=\"1\" class=\"dataframe\">\n",
       "  <thead>\n",
       "    <tr style=\"text-align: right;\">\n",
       "      <th></th>\n",
       "      <th>Statistic Label</th>\n",
       "      <th>Quarter</th>\n",
       "      <th>UNIT</th>\n",
       "      <th>sector</th>\n",
       "      <th>VALUE</th>\n",
       "    </tr>\n",
       "  </thead>\n",
       "  <tbody>\n",
       "    <tr>\n",
       "      <th>0</th>\n",
       "      <td>Employment</td>\n",
       "      <td>2008Q1</td>\n",
       "      <td>Number</td>\n",
       "      <td>Civil service</td>\n",
       "      <td>41700.0</td>\n",
       "    </tr>\n",
       "    <tr>\n",
       "      <th>1</th>\n",
       "      <td>Employment</td>\n",
       "      <td>2008Q1</td>\n",
       "      <td>Number</td>\n",
       "      <td>Defence</td>\n",
       "      <td>11200.0</td>\n",
       "    </tr>\n",
       "    <tr>\n",
       "      <th>2</th>\n",
       "      <td>Employment</td>\n",
       "      <td>2008Q1</td>\n",
       "      <td>Number</td>\n",
       "      <td>Garda Siochana</td>\n",
       "      <td>14900.0</td>\n",
       "    </tr>\n",
       "    <tr>\n",
       "      <th>3</th>\n",
       "      <td>Employment</td>\n",
       "      <td>2008Q1</td>\n",
       "      <td>Number</td>\n",
       "      <td>Education</td>\n",
       "      <td>116100.0</td>\n",
       "    </tr>\n",
       "    <tr>\n",
       "      <th>4</th>\n",
       "      <td>Employment</td>\n",
       "      <td>2008Q1</td>\n",
       "      <td>Number</td>\n",
       "      <td>Regional bodies</td>\n",
       "      <td>38900.0</td>\n",
       "    </tr>\n",
       "  </tbody>\n",
       "</table>\n",
       "</div>"
      ],
      "text/plain": [
       "  Statistic Label Quarter    UNIT           sector     VALUE\n",
       "0      Employment  2008Q1  Number    Civil service   41700.0\n",
       "1      Employment  2008Q1  Number          Defence   11200.0\n",
       "2      Employment  2008Q1  Number   Garda Siochana   14900.0\n",
       "3      Employment  2008Q1  Number        Education  116100.0\n",
       "4      Employment  2008Q1  Number  Regional bodies   38900.0"
      ]
     },
     "execution_count": 5,
     "metadata": {},
     "output_type": "execute_result"
    }
   ],
   "source": [
    "# Eliminate columns so as to have only required ones\n",
    "raw_1_pd = raw_1_pd.drop(columns=['STATISTIC','TLIST(Q1)','C02741V03309','Sub Sector'])\n",
    "raw_1_pd = raw_1_pd[['Statistic Label', 'Quarter','UNIT','sector','VALUE']]\n",
    "raw_1_pd.head()"
   ]
  },
  {
   "cell_type": "code",
   "execution_count": 6,
   "id": "b7d7d9de",
   "metadata": {},
   "outputs": [],
   "source": [
    "# Splitting dataset according to statistic types\n",
    "## TAG: Empleyment\n",
    "employment_1_pd = raw_1_pd.loc[raw_1_pd['Statistic Label'] == 'Employment']\n",
    "employment_1_pd = employment_1_pd.rename(columns={'VALUE':'Employed'})\n",
    "employment_1_pd = employment_1_pd.drop(columns=['Statistic Label','UNIT'])\n",
    "## TAG: Average Hourly Earnings\n",
    "avgHrEarns_1_pd = raw_1_pd.loc[raw_1_pd['Statistic Label'] == 'Average Hourly Earnings']\n",
    "avgHrEarns_1_pd = avgHrEarns_1_pd.rename(columns={'VALUE':'avgHrEarns'})\n",
    "avgHrEarns_1_pd = avgHrEarns_1_pd.drop(columns=['Statistic Label','UNIT'])\n",
    "## TAG: Average Hourly Earnings excluding Irregular Earnings\n",
    "avgHrEarnsExIE_1_pd = raw_1_pd.loc[raw_1_pd['Statistic Label'] == 'Average Hourly Earnings excluding Irregular Earnings']\n",
    "avgHrEarnsExIE_1_pd = avgHrEarnsExIE_1_pd.rename(columns={'VALUE':'avgHrEarnsExIE'})\n",
    "avgHrEarnsExIE_1_pd = avgHrEarnsExIE_1_pd.drop(columns=['Statistic Label','UNIT'])\n",
    "## TAG: Average hourly irregular earnings\n",
    "avgHrIE_1_pd = raw_1_pd.loc[raw_1_pd['Statistic Label'] == 'Average hourly irregular earnings']\n",
    "avgHrIE_1_pd = avgHrIE_1_pd.rename(columns={'VALUE':'avgHrIE'})\n",
    "avgHrIE_1_pd = avgHrIE_1_pd.drop(columns=['Statistic Label','UNIT'])\n",
    "## TAG: Average hourly other labour costs \n",
    "avgHrOthLC_1_pd = raw_1_pd.loc[raw_1_pd['Statistic Label'] == 'Average hourly other labour costs']\n",
    "avgHrOthLC_1_pd = avgHrOthLC_1_pd.rename(columns={'VALUE':'avgHrOthLC'})\n",
    "avgHrOthLC_1_pd = avgHrOthLC_1_pd.drop(columns=['Statistic Label','UNIT'])\n",
    "## TAG: Average hourly total labour costs\n",
    "avgHrTotLC_1_pd = raw_1_pd.loc[raw_1_pd['Statistic Label'] == 'Average hourly total labour costs']\n",
    "avgHrTotLC_1_pd = avgHrTotLC_1_pd.rename(columns={'VALUE':'avgHrTotLC'})\n",
    "avgHrTotLC_1_pd = avgHrTotLC_1_pd.drop(columns=['Statistic Label','UNIT'])\n",
    "## TAG: Average Weekly Earnings\n",
    "avgWkEarns_1_pd = raw_1_pd.loc[raw_1_pd['Statistic Label'] == 'Average Weekly Earnings']\n",
    "avgWkEarns_1_pd = avgWkEarns_1_pd.rename(columns={'VALUE':'avgWkEarns'})\n",
    "avgWkEarns_1_pd = avgWkEarns_1_pd.drop(columns=['Statistic Label','UNIT'])\n",
    "## TAG: Average Weekly Paid Hours\n",
    "avgWkPH_1_pd = raw_1_pd.loc[raw_1_pd['Statistic Label'] == 'Average Weekly Paid Hours']\n",
    "avgWkPH_1_pd = avgWkPH_1_pd.rename(columns={'VALUE':'avgWkPH'})\n",
    "avgWkPH_1_pd = avgWkPH_1_pd.drop(columns=['Statistic Label','UNIT'])"
   ]
  },
  {
   "cell_type": "code",
   "execution_count": 7,
   "id": "8b2a675a",
   "metadata": {},
   "outputs": [],
   "source": [
    "employment_1_pd.to_csv('structured_data/employment.csv', index=False)\n",
    "avgHrEarns_1_pd.to_csv('structured_data/avgHrEarns_1_pd.csv', index=False)\n",
    "avgHrEarnsExIE_1_pd.to_csv('structured_data/avgHrEarnsExIE_1_pd.csv', index=False)\n",
    "avgHrIE_1_pd.to_csv('structured_data/avgHrIE_1_pd.csv', index=False)\n",
    "avgHrOthLC_1_pd.to_csv('structured_data/avgHrOthLC_1_pd.csv', index=False)\n",
    "avgHrTotLC_1_pd.to_csv('structured_data/avgHrTotLC_1_pd.csv', index=False)\n",
    "avgWkEarns_1_pd.to_csv('structured_data/avgWkEarns_1_pd.csv', index=False)\n",
    "avgWkPH_1_pd.to_csv('structured_data/avgWkPH_1_pd.csv', index=False)"
   ]
  },
  {
   "cell_type": "code",
   "execution_count": 22,
   "id": "d816b417",
   "metadata": {},
   "outputs": [
    {
     "name": "stdout",
     "output_type": "stream",
     "text": [
      "<class 'pandas.core.frame.DataFrame'>\n",
      "RangeIndex: 2387 entries, 0 to 2386\n",
      "Data columns (total 15 columns):\n",
      " #   Column                 Non-Null Count  Dtype  \n",
      "---  ------                 --------------  -----  \n",
      " 0   COU                    2387 non-null   object \n",
      " 1   Country                2387 non-null   object \n",
      " 2   IND                    2387 non-null   object \n",
      " 3   Indicator              2387 non-null   object \n",
      " 4   YEAR                   2387 non-null   int64  \n",
      " 5   Year                   2387 non-null   int64  \n",
      " 6   Unit Code              2387 non-null   object \n",
      " 7   Unit                   2387 non-null   object \n",
      " 8   PowerCode Code         2387 non-null   int64  \n",
      " 9   PowerCode              2387 non-null   object \n",
      " 10  Reference Period Code  2387 non-null   object \n",
      " 11  Reference Period       2387 non-null   object \n",
      " 12  Value                  2387 non-null   float64\n",
      " 13  Flag Codes             2387 non-null   object \n",
      " 14  Flags                  2387 non-null   object \n",
      "dtypes: float64(1), int64(3), object(11)\n",
      "memory usage: 279.9+ KB\n"
     ]
    }
   ],
   "source": [
    "# LOAD RAW DATA 2: Public Employment Data of OECD Countries (RAW) (JSON)\n",
    "raw_2_pd = pd.read_json('raw_data/oecd_countries.json')\n",
    "raw_2_pd.info()"
   ]
  },
  {
   "cell_type": "code",
   "execution_count": 23,
   "id": "1f2490e3",
   "metadata": {},
   "outputs": [
    {
     "data": {
      "text/plain": [
       "array(['Gender equality in public sector employment, percentage of women',\n",
       "       'Gender equality in total employment, percentage of women',\n",
       "       'Gender equality in parliament, percentage of women',\n",
       "       'Gender equality in cabinet ministerial positions, percentage of women',\n",
       "       'Share of members of parliament aged 40 and under',\n",
       "       'Young people as a share of the voting-age population',\n",
       "       'Average age of cabinet members',\n",
       "       'Employment in general government as a percentage of total employment',\n",
       "       'Employment in general government',\n",
       "       'Gender equality in senior management positions in national administrations, percentage of women',\n",
       "       'Gender equality in professional judges, percentage of women',\n",
       "       'Gender equality in in courts of first instance, percentage of women',\n",
       "       'Gender equality in appeal courts, percentage of women',\n",
       "       'Gender equality in supreme courts, percentage of women'],\n",
       "      dtype=object)"
      ]
     },
     "execution_count": 23,
     "metadata": {},
     "output_type": "execute_result"
    }
   ],
   "source": [
    "# In the dataset, we have different statistical types\n",
    "raw_2_pd['Indicator'].unique()"
   ]
  },
  {
   "cell_type": "code",
   "execution_count": 24,
   "id": "8e1911a5",
   "metadata": {},
   "outputs": [
    {
     "data": {
      "text/plain": [
       "COU                      0\n",
       "Country                  0\n",
       "IND                      0\n",
       "Indicator                0\n",
       "YEAR                     0\n",
       "Year                     0\n",
       "Unit Code                0\n",
       "Unit                     0\n",
       "PowerCode Code           0\n",
       "PowerCode                0\n",
       "Reference Period Code    0\n",
       "Reference Period         0\n",
       "Value                    0\n",
       "Flag Codes               0\n",
       "Flags                    0\n",
       "dtype: int64"
      ]
     },
     "execution_count": 24,
     "metadata": {},
     "output_type": "execute_result"
    }
   ],
   "source": [
    "# Check null values\n",
    "raw_2_pd.isnull().sum()"
   ]
  },
  {
   "cell_type": "code",
   "execution_count": 25,
   "id": "bf2586e6",
   "metadata": {},
   "outputs": [
    {
     "data": {
      "text/html": [
       "<div>\n",
       "<style scoped>\n",
       "    .dataframe tbody tr th:only-of-type {\n",
       "        vertical-align: middle;\n",
       "    }\n",
       "\n",
       "    .dataframe tbody tr th {\n",
       "        vertical-align: top;\n",
       "    }\n",
       "\n",
       "    .dataframe thead th {\n",
       "        text-align: right;\n",
       "    }\n",
       "</style>\n",
       "<table border=\"1\" class=\"dataframe\">\n",
       "  <thead>\n",
       "    <tr style=\"text-align: right;\">\n",
       "      <th></th>\n",
       "      <th>Country</th>\n",
       "      <th>Indicator</th>\n",
       "      <th>Year</th>\n",
       "      <th>Value</th>\n",
       "    </tr>\n",
       "  </thead>\n",
       "  <tbody>\n",
       "    <tr>\n",
       "      <th>0</th>\n",
       "      <td>Australia</td>\n",
       "      <td>Gender equality in public sector employment, p...</td>\n",
       "      <td>2011</td>\n",
       "      <td>61.12</td>\n",
       "    </tr>\n",
       "    <tr>\n",
       "      <th>1</th>\n",
       "      <td>Australia</td>\n",
       "      <td>Gender equality in public sector employment, p...</td>\n",
       "      <td>2020</td>\n",
       "      <td>63.76</td>\n",
       "    </tr>\n",
       "    <tr>\n",
       "      <th>2</th>\n",
       "      <td>Australia</td>\n",
       "      <td>Gender equality in total employment, percentag...</td>\n",
       "      <td>2011</td>\n",
       "      <td>45.20</td>\n",
       "    </tr>\n",
       "    <tr>\n",
       "      <th>3</th>\n",
       "      <td>Australia</td>\n",
       "      <td>Gender equality in total employment, percentag...</td>\n",
       "      <td>2020</td>\n",
       "      <td>48.82</td>\n",
       "    </tr>\n",
       "    <tr>\n",
       "      <th>4</th>\n",
       "      <td>Australia</td>\n",
       "      <td>Gender equality in parliament, percentage of w...</td>\n",
       "      <td>2002</td>\n",
       "      <td>25.30</td>\n",
       "    </tr>\n",
       "  </tbody>\n",
       "</table>\n",
       "</div>"
      ],
      "text/plain": [
       "     Country                                          Indicator  Year  Value\n",
       "0  Australia  Gender equality in public sector employment, p...  2011  61.12\n",
       "1  Australia  Gender equality in public sector employment, p...  2020  63.76\n",
       "2  Australia  Gender equality in total employment, percentag...  2011  45.20\n",
       "3  Australia  Gender equality in total employment, percentag...  2020  48.82\n",
       "4  Australia  Gender equality in parliament, percentage of w...  2002  25.30"
      ]
     },
     "execution_count": 25,
     "metadata": {},
     "output_type": "execute_result"
    }
   ],
   "source": [
    "# Eliminate columns so as to have only required ones\n",
    "raw_2_pd = raw_2_pd.drop(columns = {'COU','IND','YEAR','Unit Code','Unit','PowerCode Code','PowerCode','Reference Period Code','Reference Period','Flag Codes','Flags'})\n",
    "raw_2_pd.head()"
   ]
  },
  {
   "cell_type": "code",
   "execution_count": 26,
   "id": "4d287d85",
   "metadata": {},
   "outputs": [],
   "source": [
    "# LOAD RAW DATA 3: Population Data of Countries (RAW) (CSV)\n",
    "population = pd.read_csv('raw_data/population_by_country_2020.csv')"
   ]
  },
  {
   "cell_type": "markdown",
   "id": "0d5f3896",
   "metadata": {},
   "source": [
    "We want differenet variables in the dataset, that's why we enhance the dataset also.."
   ]
  },
  {
   "cell_type": "code",
   "execution_count": 27,
   "id": "387f557a",
   "metadata": {},
   "outputs": [
    {
     "data": {
      "text/html": [
       "<div>\n",
       "<style scoped>\n",
       "    .dataframe tbody tr th:only-of-type {\n",
       "        vertical-align: middle;\n",
       "    }\n",
       "\n",
       "    .dataframe tbody tr th {\n",
       "        vertical-align: top;\n",
       "    }\n",
       "\n",
       "    .dataframe thead th {\n",
       "        text-align: right;\n",
       "    }\n",
       "</style>\n",
       "<table border=\"1\" class=\"dataframe\">\n",
       "  <thead>\n",
       "    <tr style=\"text-align: right;\">\n",
       "      <th></th>\n",
       "      <th>Country</th>\n",
       "      <th>Indicator</th>\n",
       "      <th>Year</th>\n",
       "      <th>Population (2020)</th>\n",
       "      <th>Yearly Change</th>\n",
       "      <th>Net Change</th>\n",
       "      <th>Density (P/Km²)</th>\n",
       "      <th>Land Area (Km²)</th>\n",
       "      <th>Migrants (net)</th>\n",
       "      <th>Fert. Rate</th>\n",
       "      <th>Med. Age</th>\n",
       "      <th>Urban Pop %</th>\n",
       "      <th>World Share</th>\n",
       "      <th>Value</th>\n",
       "    </tr>\n",
       "  </thead>\n",
       "  <tbody>\n",
       "    <tr>\n",
       "      <th>0</th>\n",
       "      <td>Australia</td>\n",
       "      <td>Gender equality in public sector employment, p...</td>\n",
       "      <td>2011</td>\n",
       "      <td>25550683.0</td>\n",
       "      <td>1.18%</td>\n",
       "      <td>296686.0</td>\n",
       "      <td>3.0</td>\n",
       "      <td>7682300.0</td>\n",
       "      <td>158246.0</td>\n",
       "      <td>1.8</td>\n",
       "      <td>38</td>\n",
       "      <td>86%</td>\n",
       "      <td>0.33%</td>\n",
       "      <td>61.12</td>\n",
       "    </tr>\n",
       "    <tr>\n",
       "      <th>1</th>\n",
       "      <td>Australia</td>\n",
       "      <td>Gender equality in public sector employment, p...</td>\n",
       "      <td>2020</td>\n",
       "      <td>25550683.0</td>\n",
       "      <td>1.18%</td>\n",
       "      <td>296686.0</td>\n",
       "      <td>3.0</td>\n",
       "      <td>7682300.0</td>\n",
       "      <td>158246.0</td>\n",
       "      <td>1.8</td>\n",
       "      <td>38</td>\n",
       "      <td>86%</td>\n",
       "      <td>0.33%</td>\n",
       "      <td>63.76</td>\n",
       "    </tr>\n",
       "    <tr>\n",
       "      <th>2</th>\n",
       "      <td>Australia</td>\n",
       "      <td>Gender equality in total employment, percentag...</td>\n",
       "      <td>2011</td>\n",
       "      <td>25550683.0</td>\n",
       "      <td>1.18%</td>\n",
       "      <td>296686.0</td>\n",
       "      <td>3.0</td>\n",
       "      <td>7682300.0</td>\n",
       "      <td>158246.0</td>\n",
       "      <td>1.8</td>\n",
       "      <td>38</td>\n",
       "      <td>86%</td>\n",
       "      <td>0.33%</td>\n",
       "      <td>45.20</td>\n",
       "    </tr>\n",
       "    <tr>\n",
       "      <th>3</th>\n",
       "      <td>Australia</td>\n",
       "      <td>Gender equality in total employment, percentag...</td>\n",
       "      <td>2020</td>\n",
       "      <td>25550683.0</td>\n",
       "      <td>1.18%</td>\n",
       "      <td>296686.0</td>\n",
       "      <td>3.0</td>\n",
       "      <td>7682300.0</td>\n",
       "      <td>158246.0</td>\n",
       "      <td>1.8</td>\n",
       "      <td>38</td>\n",
       "      <td>86%</td>\n",
       "      <td>0.33%</td>\n",
       "      <td>48.82</td>\n",
       "    </tr>\n",
       "    <tr>\n",
       "      <th>4</th>\n",
       "      <td>Australia</td>\n",
       "      <td>Gender equality in parliament, percentage of w...</td>\n",
       "      <td>2002</td>\n",
       "      <td>25550683.0</td>\n",
       "      <td>1.18%</td>\n",
       "      <td>296686.0</td>\n",
       "      <td>3.0</td>\n",
       "      <td>7682300.0</td>\n",
       "      <td>158246.0</td>\n",
       "      <td>1.8</td>\n",
       "      <td>38</td>\n",
       "      <td>86%</td>\n",
       "      <td>0.33%</td>\n",
       "      <td>25.30</td>\n",
       "    </tr>\n",
       "  </tbody>\n",
       "</table>\n",
       "</div>"
      ],
      "text/plain": [
       "     Country                                          Indicator  Year  \\\n",
       "0  Australia  Gender equality in public sector employment, p...  2011   \n",
       "1  Australia  Gender equality in public sector employment, p...  2020   \n",
       "2  Australia  Gender equality in total employment, percentag...  2011   \n",
       "3  Australia  Gender equality in total employment, percentag...  2020   \n",
       "4  Australia  Gender equality in parliament, percentage of w...  2002   \n",
       "\n",
       "   Population (2020) Yearly Change  Net Change  Density (P/Km²)  \\\n",
       "0         25550683.0         1.18%    296686.0              3.0   \n",
       "1         25550683.0         1.18%    296686.0              3.0   \n",
       "2         25550683.0         1.18%    296686.0              3.0   \n",
       "3         25550683.0         1.18%    296686.0              3.0   \n",
       "4         25550683.0         1.18%    296686.0              3.0   \n",
       "\n",
       "   Land Area (Km²)  Migrants (net) Fert. Rate Med. Age Urban Pop %  \\\n",
       "0        7682300.0        158246.0        1.8       38         86%   \n",
       "1        7682300.0        158246.0        1.8       38         86%   \n",
       "2        7682300.0        158246.0        1.8       38         86%   \n",
       "3        7682300.0        158246.0        1.8       38         86%   \n",
       "4        7682300.0        158246.0        1.8       38         86%   \n",
       "\n",
       "  World Share  Value  \n",
       "0       0.33%  61.12  \n",
       "1       0.33%  63.76  \n",
       "2       0.33%  45.20  \n",
       "3       0.33%  48.82  \n",
       "4       0.33%  25.30  "
      ]
     },
     "execution_count": 27,
     "metadata": {},
     "output_type": "execute_result"
    }
   ],
   "source": [
    "raw_2_pd = raw_2_pd.merge(population, on='Country', how='left')\n",
    "raw_2_pd = raw_2_pd[['Country','Indicator','Year','Population (2020)','Yearly Change','Net Change','Density (P/Km²)','Land Area (Km²)','Migrants (net)','Fert. Rate','Med. Age','Urban Pop %','World Share','Value']]\n",
    "raw_2_pd.head()"
   ]
  },
  {
   "cell_type": "code",
   "execution_count": null,
   "id": "b05b3caf",
   "metadata": {},
   "outputs": [],
   "source": []
  },
  {
   "cell_type": "code",
   "execution_count": 30,
   "id": "b6159043",
   "metadata": {},
   "outputs": [],
   "source": [
    "# we will use two of these statistics: \n",
    "# 1- 'Gender equality in public sector employment, percentage of women' \n",
    "# 2- 'Employment in general government as a percentage of total employment' \n",
    "gender_public_pd = raw_2_pd.loc[raw_2_pd['Indicator']=='Gender equality in public sector employment, percentage of women']\n",
    "employ_public_pd = raw_2_pd.loc[raw_2_pd['Indicator']=='Employment in general government as a percentage of total employment']"
   ]
  },
  {
   "cell_type": "code",
   "execution_count": 31,
   "id": "911aa42d",
   "metadata": {},
   "outputs": [],
   "source": [
    "gender_public_pd.to_csv('structured_data/gender_public_pd.csv', index=False)\n",
    "employ_public_pd.to_csv('structured_data/employ_public_pd.csv', index=False)"
   ]
  },
  {
   "cell_type": "markdown",
   "id": "17a737fb",
   "metadata": {},
   "source": [
    "Data Engineering with Numpy"
   ]
  },
  {
   "cell_type": "code",
   "execution_count": 32,
   "id": "839c4347",
   "metadata": {},
   "outputs": [
    {
     "data": {
      "text/plain": [
       "array([['ï»¿\"STATISTIC\"', 'Statistic Label', 'TLIST(Q1)', ...,\n",
       "        'Sub Sector', 'UNIT', 'VALUE'],\n",
       "       ['EHQ10C01', 'Employment', '20081', ..., 'Civil service',\n",
       "        'Number', '41700'],\n",
       "       ['EHQ10C01', 'Employment', '20081', ..., 'Defence', 'Number',\n",
       "        '11200'],\n",
       "       ...,\n",
       "       ['EHQ10C08', 'Average hourly total labour costs', '20231', ...,\n",
       "        'Non commercial Semi-State companies', 'Euro', '36.47'],\n",
       "       ['EHQ10C08', 'Average hourly total labour costs', '20231', ...,\n",
       "        'Total Public Sector including Semi State bodies', 'Euro',\n",
       "        '37.64'],\n",
       "       ['EHQ10C08', 'Average hourly total labour costs', '20231', ...,\n",
       "        'Total Public Sector excluding Semi State bodies', 'Euro',\n",
       "        '37.68']], dtype='<U52')"
      ]
     },
     "metadata": {},
     "output_type": "display_data"
    }
   ],
   "source": [
    "# Importing csv module\n",
    "import csv\n",
    "\n",
    "with open(\"raw_data/ireland_public_raw.csv\", 'r') as x:\n",
    "    sample_data = list(csv.reader(x, delimiter=\",\"))\n",
    "raw_1_np = np.array(sample_data)\n",
    "display(raw_1_np)"
   ]
  },
  {
   "cell_type": "code",
   "execution_count": 33,
   "id": "01cfc6d0",
   "metadata": {},
   "outputs": [
    {
     "data": {
      "text/plain": [
       "'\\nfor i in range(len(raw_1_np)):\\n    print(np.isnan(raw_1_np[i])) \\n'"
      ]
     },
     "execution_count": 33,
     "metadata": {},
     "output_type": "execute_result"
    }
   ],
   "source": [
    "\"\"\"\n",
    "for i in range(len(raw_1_np)):\n",
    "    print(np.isnan(raw_1_np[i])) \n",
    "\"\"\"\n",
    "# Checking null values with numpy is a problematic because both the complexity of the process and the capability of the library"
   ]
  },
  {
   "cell_type": "code",
   "execution_count": 34,
   "id": "19d8249f",
   "metadata": {},
   "outputs": [],
   "source": [
    "## When we want to process the whole data, there are some difficulties about using numpy. With numpy, we can edit rows distinctly, while this logic gives us a more specific capability to reach and manipulate data, we cannot cope with the whole dataset at once.\n",
    "# Update columns so as they have a useful format\n",
    "# Eliminate columns so as to have only required ones\n",
    "# Splitting dataset according to statistic types"
   ]
  },
  {
   "cell_type": "markdown",
   "id": "dd73b004",
   "metadata": {},
   "source": []
  }
 ],
 "metadata": {
  "kernelspec": {
   "display_name": "Python 3 (ipykernel)",
   "language": "python",
   "name": "python3"
  },
  "language_info": {
   "codemirror_mode": {
    "name": "ipython",
    "version": 3
   },
   "file_extension": ".py",
   "mimetype": "text/x-python",
   "name": "python",
   "nbconvert_exporter": "python",
   "pygments_lexer": "ipython3",
   "version": "3.9.12"
  }
 },
 "nbformat": 4,
 "nbformat_minor": 5
}
